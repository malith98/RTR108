{
  "nbformat": 4,
  "nbformat_minor": 0,
  "metadata": {
    "colab": {
      "name": "Untitled1(3).ipynb",
      "provenance": []
    },
    "kernelspec": {
      "name": "python3",
      "display_name": "Python 3"
    }
  },
  "cells": [
    {
      "cell_type": "code",
      "metadata": {
        "id": "F0biJQZvPD23",
        "colab_type": "code",
        "colab": {}
      },
      "source": [
        ""
      ],
      "execution_count": null,
      "outputs": []
    },
    {
      "cell_type": "markdown",
      "metadata": {
        "id": "wNhbEte4QN2c",
        "colab_type": "text"
      },
      "source": [
        "**expression of tylor series of function(ASCII)**"
      ]
    },
    {
      "cell_type": "markdown",
      "metadata": {
        "id": "ME3m2-4bPFY7",
        "colab_type": "text"
      },
      "source": [
        "My Function;\n",
        "   f(x)=sin(x/2)*sin(x/2)\n",
        "\\begin{equation}\n",
        "sin^2(x/2)=\\sum_{k=0}^\\infty\\ ((-1)^{k+1}\\cdot (x)^{2\\cdot k})/2\\cdot (2\\cdot k)!)==((-1)^{0+1}\\cdot (x)^{2\\cdot 0})/2\\cdot (2\\cdot 0)!)+((-1)^{1+1}\\cdot (x)^{2\\cdot 1})/2\\cdot (2\\cdot 1)!)+((-1)^{2+1}\\cdot (x)^{2\\cdot 2})/2\\cdot (2\\cdot 2)!)+((-1)^{3+1}\\cdot (x)^{2\\cdot 3})/2\\cdot (2\\cdot 3)!)\n",
        "\\end{equation}    "
      ]
    },
    {
      "cell_type": "markdown",
      "metadata": {
        "id": "iY3UztRER09r",
        "colab_type": "text"
      },
      "source": [
        "**function definition area value**;    \n",
        "-(infinity) < x < +(infinity)\n"
      ]
    },
    {
      "cell_type": "markdown",
      "metadata": {
        "id": "Vht3Pce9Yv67",
        "colab_type": "text"
      },
      "source": [
        "**expression of recurrence factor of Taylor series of function (ASCII\n",
        "drawing)**"
      ]
    },
    {
      "cell_type": "markdown",
      "metadata": {
        "id": "6z-zn7xZjKX6",
        "colab_type": "text"
      },
      "source": [
        "\\begin{equation}\n",
        "((-1)^{0+1}\\cdot (x)^{2\\cdot 0})/2\\cdot (2\\cdot 0)!)=((-1)\\cdot 1)/2 \\cdot 1=-1/2\n",
        "\\end{equation}    "
      ]
    },
    {
      "cell_type": "markdown",
      "metadata": {
        "id": "AG7MAHVVkkd5",
        "colab_type": "text"
      },
      "source": [
        "**obtaining of value of x**"
      ]
    },
    {
      "cell_type": "markdown",
      "metadata": {
        "id": "CC7kVWTf0uAg",
        "colab_type": "text"
      },
      "source": [
        "\\begin{equation} sin^2(x/2)=-1/2\n",
        "\\end{equation}\n"
      ]
    },
    {
      "cell_type": "markdown",
      "metadata": {
        "id": "83eb50hL1KMD",
        "colab_type": "text"
      },
      "source": [
        "**value of penultimate terms**"
      ]
    },
    {
      "cell_type": "markdown",
      "metadata": {
        "id": "UPTVm3nC1fAo",
        "colab_type": "text"
      },
      "source": [
        "\\begin{equation}\n",
        "((-1)^{\\infty\\ +1}\\cdot (x)^{2\\cdot \\infty\\ })/2\\cdot (2\\cdot \\infty\\ )!\n",
        "\\end{equation}\n"
      ]
    },
    {
      "cell_type": "markdown",
      "metadata": {
        "id": "Sclx8wOal3Og",
        "colab_type": "text"
      },
      "source": [
        "**value of last term(assume 500th)**"
      ]
    },
    {
      "cell_type": "markdown",
      "metadata": {
        "id": "pN7h4KqMmIfB",
        "colab_type": "text"
      },
      "source": [
        "\\begin{equation}\n",
        "((-1)^{500+1}\\cdot (x)^{2\\cdot 500})/2\\cdot (2\\cdot 500)!)== (-1) \\cdot x^{1000} /2 \\cdot (1000)!\n",
        "\\end{equation}"
      ]
    },
    {
      "cell_type": "markdown",
      "metadata": {
        "id": "B4t7sN0VnRve",
        "colab_type": "text"
      },
      "source": [
        "**value of function(f(x))**"
      ]
    },
    {
      "cell_type": "markdown",
      "metadata": {
        "id": "33S1CpX-nzxA",
        "colab_type": "text"
      },
      "source": [
        "\\begin{equation}\n",
        "\\sum_{k=1}^{500} ((-1)^{k+1}\\cdot (x)^{2\\cdot k})/2\\cdot (2\\cdot k)!=x^2/2\n",
        "-x^4/48+x^6/1440-x^8/80640+...\\end{equation}"
      ]
    },
    {
      "cell_type": "code",
      "metadata": {
        "id": "saR-9AO4ugBE",
        "colab_type": "code",
        "colab": {
          "base_uri": "https://localhost:8080/",
          "height": 35
        },
        "outputId": "4034ac81-e053-4522-e3c7-7e98e3348cf2"
      },
      "source": [
        "import math\n",
        "x=500\n",
        "for k in range(500):\n",
        "    A = ((-1)**(k+1))*((x)**(2*k))\n",
        "    B = 2 * (math.factorial(2*k))\n",
        "    v =A/B\n",
        "\n",
        "\n",
        "print('the value of tylor series:',v)"
      ],
      "execution_count": 2,
      "outputs": [
        {
          "output_type": "stream",
          "text": [
            "the value of tylor series: 4.633995393920223e+131\n"
          ],
          "name": "stdout"
        }
      ]
    },
    {
      "cell_type": "markdown",
      "metadata": {
        "id": "0WDx0LZKsdgP",
        "colab_type": "text"
      },
      "source": [
        "**graph f(x)**"
      ]
    },
    {
      "cell_type": "markdown",
      "metadata": {
        "id": "U0AWqdmesqNJ",
        "colab_type": "text"
      },
      "source": [
        "![image.png](data:image/png;base64,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)"
      ]
    }
  ]
}